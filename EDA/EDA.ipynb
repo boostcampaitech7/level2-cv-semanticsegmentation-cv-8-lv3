{
 "cells": [
  {
   "cell_type": "code",
   "execution_count": null,
   "metadata": {},
   "outputs": [],
   "source": [
    "# python native\n",
    "import os\n",
    "import json\n",
    "import random\n",
    "import datetime\n",
    "from functools import partial\n",
    "\n",
    "# external library\n",
    "import cv2\n",
    "import numpy as np\n",
    "import pandas as pd\n",
    "from tqdm.auto import tqdm\n",
    "from sklearn.model_selection import GroupKFold\n",
    "import albumentations as A\n",
    "\n",
    "# torch\n",
    "import torch\n",
    "import torch.nn as nn\n",
    "import torch.nn.functional as F\n",
    "import torch.optim as optim\n",
    "from torch.utils.data import Dataset, DataLoader\n",
    "from torchvision import models\n",
    "\n",
    "# visualization\n",
    "import matplotlib.pyplot as plt\n",
    "from skimage.io import imread"
   ]
  },
  {
   "cell_type": "code",
   "execution_count": null,
   "metadata": {},
   "outputs": [],
   "source": [
    "# 데이터 경로를 입력하세요\n",
    "\n",
    "IMAGE_ROOT = \"/Users/johyewon/Desktop/BoostCamp/Project/4. Semnatic-Segmentation/Code/data/train/DCM\"\n",
    "LABEL_ROOT = \"/Users/johyewon/Desktop/BoostCamp/Project/4. Semnatic-Segmentation/Code/data/train/outputs_json\""
   ]
  },
  {
   "cell_type": "code",
   "execution_count": null,
   "metadata": {},
   "outputs": [],
   "source": [
    "CLASSES = [\n",
    "    'finger-1', 'finger-2', 'finger-3', 'finger-4', 'finger-5',\n",
    "    'finger-6', 'finger-7', 'finger-8', 'finger-9', 'finger-10',\n",
    "    'finger-11', 'finger-12', 'finger-13', 'finger-14', 'finger-15',\n",
    "    'finger-16', 'finger-17', 'finger-18', 'finger-19', 'Trapezium',\n",
    "    'Trapezoid', 'Capitate', 'Hamate', 'Scaphoid', 'Lunate',\n",
    "    'Triquetrum', 'Pisiform', 'Radius', 'Ulna',\n",
    "]"
   ]
  },
  {
   "cell_type": "code",
   "execution_count": null,
   "metadata": {},
   "outputs": [],
   "source": [
    "CLASS2IND = {v: i for i, v in enumerate(CLASSES)}"
   ]
  },
  {
   "cell_type": "code",
   "execution_count": null,
   "metadata": {},
   "outputs": [],
   "source": [
    "IND2CLASS = {v: k for k, v in CLASS2IND.items()}"
   ]
  },
  {
   "cell_type": "code",
   "execution_count": null,
   "metadata": {},
   "outputs": [],
   "source": [
    "pngs = {\n",
    "    os.path.relpath(os.path.join(root, fname), start=IMAGE_ROOT)\n",
    "    for root, _dirs, files in os.walk(IMAGE_ROOT)\n",
    "    for fname in files\n",
    "    if os.path.splitext(fname)[1].lower() == \".png\"\n",
    "}"
   ]
  },
  {
   "cell_type": "code",
   "execution_count": null,
   "metadata": {},
   "outputs": [],
   "source": [
    "len(pngs)"
   ]
  },
  {
   "cell_type": "code",
   "execution_count": null,
   "metadata": {},
   "outputs": [],
   "source": [
    "jsons = {\n",
    "    os.path.relpath(os.path.join(root, fname), start=LABEL_ROOT)\n",
    "    for root, _dirs, files in os.walk(LABEL_ROOT)\n",
    "    for fname in files\n",
    "    if os.path.splitext(fname)[1].lower() == \".json\"\n",
    "}"
   ]
  },
  {
   "cell_type": "code",
   "execution_count": null,
   "metadata": {},
   "outputs": [],
   "source": [
    "len(jsons)"
   ]
  },
  {
   "cell_type": "code",
   "execution_count": null,
   "metadata": {},
   "outputs": [],
   "source": [
    "jsons_fn_prefix = {os.path.splitext(fname)[0] for fname in jsons}\n",
    "pngs_fn_prefix = {os.path.splitext(fname)[0] for fname in pngs}\n",
    "\n",
    "assert len(jsons_fn_prefix - pngs_fn_prefix) == 0\n",
    "assert len(pngs_fn_prefix - jsons_fn_prefix) == 0"
   ]
  },
  {
   "cell_type": "code",
   "execution_count": null,
   "metadata": {},
   "outputs": [],
   "source": [
    "pngs = sorted(pngs)\n",
    "jsons = sorted(jsons)"
   ]
  },
  {
   "cell_type": "code",
   "execution_count": null,
   "metadata": {},
   "outputs": [],
   "source": [
    "pngs = np.array(pngs)\n",
    "jsons = np.array(jsons)"
   ]
  },
  {
   "cell_type": "markdown",
   "metadata": {},
   "source": [
    "# 데이터셋 정의"
   ]
  },
  {
   "cell_type": "code",
   "execution_count": null,
   "metadata": {},
   "outputs": [],
   "source": [
    "class XRayDataset(Dataset):\n",
    "    def __init__(self, filenames, labelnames, transforms=None, is_train=False):\n",
    "        self.filenames = filenames\n",
    "        self.labelnames = labelnames\n",
    "        self.is_train = is_train\n",
    "        self.transforms = transforms\n",
    "\n",
    "    def __len__(self):\n",
    "        return len(self.filenames)\n",
    "\n",
    "    def __getitem__(self, item):\n",
    "        image_name = self.filenames[item]\n",
    "        image_path = os.path.join(IMAGE_ROOT, image_name)\n",
    "\n",
    "        image = cv2.imread(image_path)\n",
    "        image = image / 255.\n",
    "\n",
    "        label_name = self.labelnames[item]\n",
    "        label_path = os.path.join(LABEL_ROOT, label_name)\n",
    "\n",
    "        # process a label of shape (H, W, NC)\n",
    "        label_shape = tuple(image.shape[:2]) + (len(CLASSES), )\n",
    "        label = np.zeros(label_shape, dtype=np.uint8)\n",
    "\n",
    "        # read label file\n",
    "        with open(label_path, \"r\") as f:\n",
    "            annotations = json.load(f)\n",
    "        annotations = annotations[\"annotations\"]\n",
    "\n",
    "        # iterate each class\n",
    "        for ann in annotations:\n",
    "            c = ann[\"label\"]\n",
    "            class_ind = CLASS2IND[c]\n",
    "            points = np.array(ann[\"points\"])\n",
    "\n",
    "            # polygon to mask\n",
    "            class_label = np.zeros(image.shape[:2], dtype=np.uint8)\n",
    "            cv2.fillPoly(class_label, [points], 1)\n",
    "            label[..., class_ind] = class_label\n",
    "\n",
    "        if self.transforms is not None:\n",
    "            inputs = {\"image\": image, \"mask\": label} if self.is_train else {\"image\": image}\n",
    "            result = self.transforms(**inputs)\n",
    "\n",
    "            image = result[\"image\"]\n",
    "            label = result[\"mask\"] if self.is_train else label\n",
    "\n",
    "        # to tenser will be done later\n",
    "        image = image.transpose(2, 0, 1)    # make channel first\n",
    "        label = label.transpose(2, 0, 1)\n",
    "\n",
    "        image = torch.from_numpy(image).float()\n",
    "        label = torch.from_numpy(label).float()\n",
    "\n",
    "        return image, label"
   ]
  },
  {
   "cell_type": "code",
   "execution_count": null,
   "metadata": {},
   "outputs": [],
   "source": [
    "train_filenames = list(pngs)  # pngs 전체를 train으로 사용\n",
    "train_labelnames = list(jsons)  # jsons 전체를 train으로 사용"
   ]
  },
  {
   "cell_type": "code",
   "execution_count": null,
   "metadata": {},
   "outputs": [],
   "source": [
    "print(train_filenames)"
   ]
  },
  {
   "cell_type": "markdown",
   "metadata": {},
   "source": [
    "# Mask 시각화"
   ]
  },
  {
   "cell_type": "code",
   "execution_count": null,
   "metadata": {},
   "outputs": [],
   "source": [
    "# define colors\n",
    "PALETTE = [\n",
    "    (220, 20, 60), (119, 11, 32), (0, 0, 142), (0, 0, 230), (106, 0, 228),\n",
    "    (0, 60, 100), (0, 80, 100), (0, 0, 70), (0, 0, 192), (250, 170, 30),\n",
    "    (100, 170, 30), (220, 220, 0), (175, 116, 175), (250, 0, 30), (165, 42, 42),\n",
    "    (255, 77, 255), (0, 226, 252), (182, 182, 255), (0, 82, 0), (120, 166, 157),\n",
    "    (110, 76, 0), (174, 57, 255), (199, 100, 0), (72, 0, 118), (255, 179, 240),\n",
    "    (0, 125, 92), (209, 0, 151), (188, 208, 182), (0, 220, 176),\n",
    "]\n",
    "\n",
    "# utility function\n",
    "# this does not care overlap\n",
    "def label2rgb(label):\n",
    "    image_size = label.shape[1:] + (3, )\n",
    "    image = np.zeros(image_size, dtype=np.uint8)\n",
    "\n",
    "    for i, class_label in enumerate(label):\n",
    "        image[class_label == 1] = PALETTE[i]\n",
    "\n",
    "    return image"
   ]
  },
  {
   "cell_type": "code",
   "execution_count": null,
   "metadata": {},
   "outputs": [],
   "source": [
    "tf = A.Resize(512, 512)"
   ]
  },
  {
   "cell_type": "code",
   "execution_count": null,
   "metadata": {},
   "outputs": [],
   "source": [
    "train_dataset = XRayDataset(train_filenames, train_labelnames, transforms=tf, is_train=True)"
   ]
  },
  {
   "cell_type": "code",
   "execution_count": null,
   "metadata": {},
   "outputs": [],
   "source": [
    "image, label = train_dataset[1]"
   ]
  },
  {
   "cell_type": "code",
   "execution_count": null,
   "metadata": {},
   "outputs": [],
   "source": [
    "print(image.shape, label.shape)"
   ]
  },
  {
   "cell_type": "code",
   "execution_count": null,
   "metadata": {},
   "outputs": [],
   "source": [
    "len(train_dataset)"
   ]
  },
  {
   "cell_type": "code",
   "execution_count": null,
   "metadata": {},
   "outputs": [],
   "source": [
    "fig, ax = plt.subplots(1, 2, figsize=(24, 12))\n",
    "ax[0].imshow(image[0])    # remove channel dimension\n",
    "ax[1].imshow(label2rgb(label))\n",
    "\n",
    "plt.show()"
   ]
  },
  {
   "cell_type": "markdown",
   "metadata": {},
   "source": [
    "# 원본 이미지 & Mask 시각화 한 파일로 저장"
   ]
  },
  {
   "cell_type": "code",
   "execution_count": null,
   "metadata": {},
   "outputs": [],
   "source": [
    "VISUALIZATION_ROOT = '/Users/johyewon/Desktop/BoostCamp/Project/4. Semnatic-Segmentation/Code/visualization'"
   ]
  },
  {
   "cell_type": "code",
   "execution_count": null,
   "metadata": {},
   "outputs": [],
   "source": [
    "# Function to process and visualize images\n",
    "def visualize_images_and_labels(image, label, output_filename):\n",
    "\n",
    "    if image is None or label is None:\n",
    "        print(f\"Error: Image or label is None. Cannot visualize {output_filename}.\")\n",
    "        return  # If either image or label is None, return without processing\n",
    "\n",
    "    fig, ax = plt.subplots(1, 2, figsize=(24, 12))\n",
    "    ax[0].imshow(image[0])  # 원본 이미지 (채널 차원 제거)\n",
    "    ax[0].axis('off')  # 축을 숨깁니다.\n",
    "    ax[1].imshow(label2rgb(label))  # 라벨을 색상으로 변환한 이미지\n",
    "    ax[1].axis('off')  # 축을 숨깁니다.\n",
    "\n",
    "    # 이미지를 파일로 저장 (PNG 형식)\n",
    "    fig.tight_layout()\n",
    "    plt.savefig(output_filename, format='png', bbox_inches='tight', pad_inches=0)\n",
    "    plt.close(fig)\n",
    "    print(f\"이미지가 {output_filename}로 저장되었습니다.\")"
   ]
  },
  {
   "cell_type": "code",
   "execution_count": null,
   "metadata": {},
   "outputs": [],
   "source": [
    "# Create directories for visualization if they don't exist\n",
    "if not os.path.exists(VISUALIZATION_ROOT):\n",
    "    os.makedirs(VISUALIZATION_ROOT)"
   ]
  },
  {
   "cell_type": "code",
   "execution_count": null,
   "metadata": {},
   "outputs": [],
   "source": [
    "# Iterate through all IDs (ID001 to ID548) and process images\n",
    "for i in tqdm(range(1, 549)):\n",
    "    # Generate the ID folder name (e.g., ID001, ID002, ..., ID548)\n",
    "    id_folder = f\"ID{i:03d}\"\n",
    "\n",
    "    # Create folder for this ID inside the visualization directory\n",
    "    id_output_folder = os.path.join(VISUALIZATION_ROOT, id_folder)\n",
    "    if not os.path.exists(id_output_folder):\n",
    "        os.makedirs(id_output_folder)\n",
    "\n",
    "    # Get list of all train filenames and labels\n",
    "    train_filenames = list(pngs)  # pngs 전체를 train으로 사용\n",
    "    train_labelnames = list(jsons)  # jsons 전체를 train으로 사용\n",
    "\n",
    "    # Filter the filenames for the current ID, making sure to keep only filenames that correspond to the current ID\n",
    "    id_filenames = [filename for filename in train_filenames if f\"ID{i:03d}\" in filename]\n",
    "    id_labelnames = [label for label in train_labelnames if f\"ID{i:03d}\" in label]\n",
    "\n",
    "    # Create the dataset and apply transformations\n",
    "    transform = A.Resize(512, 512)\n",
    "    dataset = XRayDataset(id_filenames, id_labelnames, transforms=transform, is_train=True)\n",
    "\n",
    "    # Process images for the current ID\n",
    "    for filename, labelname in zip(id_filenames, id_labelnames):\n",
    "        try:\n",
    "            # Get the corresponding image and label\n",
    "            image, label = dataset[dataset.filenames.index(filename)]  # Get the image from dataset\n",
    "    \n",
    "            # Check if the image is None\n",
    "            if image is None:\n",
    "                print(f\"Warning: Unable to load image from {filename}, skipping.\")\n",
    "                continue  # Skip this iteration if image is None\n",
    "            \n",
    "            # Check if label is None (optional, depending on the data)\n",
    "            if label is None:\n",
    "                print(f\"Warning: Unable to load label from {labelname}, skipping.\")\n",
    "                continue  # Skip this iteration if label is None\n",
    "            \n",
    "            # Generate the correct output filename for visualization\n",
    "            output_filename = os.path.join(id_output_folder, f\"{os.path.basename(filename).split('.')[0]}_vis.png\")\n",
    "    \n",
    "            # Visualize and save the image\n",
    "            visualize_images_and_labels(image, label, output_filename)\n",
    "    \n",
    "        except Exception as e:\n",
    "            print(f\"Error processing {filename}: {e}\")\n",
    "\n"
   ]
  },
  {
   "cell_type": "markdown",
   "metadata": {},
   "source": [
    "# R, L 손 파일명으로 구분"
   ]
  },
  {
   "cell_type": "code",
   "execution_count": null,
   "metadata": {},
   "outputs": [],
   "source": [
    "import os\n",
    "\n",
    "# 이미지 파일의 경로를 지정하세요\n",
    "base_path = \"/Users/johyewon/Desktop/BoostCamp/Project/4. Semnatic-Segmentation/Code/data/train/DCM\"\n",
    "\n",
    "# ID 폴더들을 탐색합니다\n",
    "for folder in os.listdir(base_path):\n",
    "    folder_path = os.path.join(base_path, folder)\n",
    "    \n",
    "    # 폴더 내 파일들을 가져옵니다 (이미지 파일이 두 개라고 가정)\n",
    "    if os.path.isdir(folder_path):\n",
    "        image_files = [f for f in os.listdir(folder_path) if f.startswith(\"image\") and f.endswith(\".png\")]\n",
    "        \n",
    "        # 숫자 기준으로 정렬합니다\n",
    "        image_files.sort(key=lambda x: int(x.split(\"image\")[1].split(\"_\")[0].split(\".\")[0]))\n",
    "\n",
    "        # 작은 숫자에 _R, 큰 숫자에 _L을 붙입니다\n",
    "        for i, file in enumerate(image_files):\n",
    "            if not (\"_R\" in file or \"_L\" in file):  # _R 또는 _L이 없는 파일만 수정\n",
    "                new_name = file.replace(\".png\", \"_R.png\") if i == 0 else file.replace(\".png\", \"_L.png\")\n",
    "                os.rename(os.path.join(folder_path, file), os.path.join(folder_path, new_name))\n",
    "                print(f\"{file} -> {new_name}\")\n"
   ]
  },
  {
   "cell_type": "markdown",
   "metadata": {},
   "source": [
    "# EDA"
   ]
  },
  {
   "cell_type": "markdown",
   "metadata": {},
   "source": [
    "### 클래스별 갯수"
   ]
  },
  {
   "cell_type": "code",
   "execution_count": null,
   "metadata": {},
   "outputs": [],
   "source": [
    "from collections import defaultdict\n",
    "\n",
    "# 클래스별 갯수를 세기 위한 딕셔너리 초기화\n",
    "class_counts = defaultdict(int)\n",
    "\n",
    "# 모든 라벨 파일 탐색 및 클래스 갯수 세기\n",
    "for root, dirs, files in os.walk(LABEL_ROOT):\n",
    "    for file in files:\n",
    "        if file.endswith(\".json\"):\n",
    "            file_path = os.path.join(root, file)\n",
    "            with open(file_path, 'r') as f:\n",
    "                data = json.load(f)\n",
    "                for annotation in data[\"annotations\"]:\n",
    "                    label = annotation[\"label\"]\n",
    "                    if label in CLASSES:\n",
    "                        class_counts[label] += 1\n",
    "\n",
    "# 막대 그래프 그리기\n",
    "plt.figure(figsize=(15, 6))\n",
    "plt.bar(class_counts.keys(), class_counts.values(), color='skyblue')\n",
    "plt.xticks(rotation=45, ha='right')\n",
    "plt.xlabel('Class')\n",
    "plt.ylabel('Count')\n",
    "plt.title('Number of Annotations per Class')\n",
    "plt.tight_layout()\n",
    "plt.show()"
   ]
  },
  {
   "cell_type": "code",
   "execution_count": null,
   "metadata": {},
   "outputs": [],
   "source": [
    "# 딕셔너리를 DataFrame으로 변환\n",
    "df = pd.DataFrame(list(class_counts.items()), columns=['Class', 'Count'])\n",
    "# 인덱스 번호대로 정렬\n",
    "df = df.sort_index()\n",
    "\n",
    "\n",
    "# DataFrame 출력\n",
    "print(df)"
   ]
  },
  {
   "cell_type": "code",
   "execution_count": null,
   "metadata": {},
   "outputs": [],
   "source": [
    "import pandas as pd\n",
    "import matplotlib.pyplot as plt\n",
    "from pandas.plotting import table\n",
    "\n",
    "# 데이터 준비\n",
    "class_counts = {\n",
    "    'finger-1': 800, 'finger-2': 800, 'finger-3': 800, 'finger-4': 800, 'finger-5': 800,\n",
    "    'finger-6': 800, 'finger-7': 800, 'finger-8': 800, 'finger-9': 800, 'finger-10': 800,\n",
    "    'finger-11': 800, 'finger-12': 800, 'finger-13': 800, 'finger-14': 800, 'finger-15': 800,\n",
    "    'finger-16': 800, 'finger-17': 800, 'finger-18': 800, 'finger-19': 800, 'Radius': 800,\n",
    "    'Pisiform': 800, 'Triquetrum': 800, 'Lunate': 800, 'Scaphoid': 800, 'Hamate': 800,\n",
    "    'Capitate': 800, 'Trapezoid': 800, 'Trapezium': 800, 'Ulna': 800\n",
    "}\n",
    "\n",
    "# 딕셔너리를 DataFrame으로 변환\n",
    "df = pd.DataFrame(list(class_counts.items()), columns=['Class', 'Count'])\n",
    "\n",
    "# 인덱스 번호대로 정렬\n",
    "df = df.sort_index()\n",
    "\n",
    "# Matplotlib을 이용한 표 이미지 시각화\n",
    "fig, ax = plt.subplots(figsize=(8, 6))  # 표의 크기 설정\n",
    "ax.axis('off')  # 축 없애기\n",
    "\n",
    "# DataFrame을 테이블로 변환하여 표시\n",
    "tabla = table(ax, df, loc='center', cellLoc='center', colWidths=[0.2, 0.2])\n",
    "\n",
    "# 테이블 스타일 설정\n",
    "tabla.auto_set_font_size(False)  # 글자 크기 자동 조정\n",
    "tabla.set_fontsize(12)  # 글자 크기 설정\n",
    "tabla.scale(1.2, 1.2)  # 테이블 크기 조정\n",
    "\n",
    "# 이미지로 저장\n",
    "plt.savefig(\"table_image.png\", bbox_inches=\"tight\", dpi=300)\n",
    "plt.show()\n"
   ]
  },
  {
   "cell_type": "code",
   "execution_count": null,
   "metadata": {},
   "outputs": [],
   "source": []
  }
 ],
 "metadata": {
  "kernelspec": {
   "display_name": "aitech7",
   "language": "python",
   "name": "level2-sem-seg"
  },
  "language_info": {
   "codemirror_mode": {
    "name": "ipython",
    "version": 3
   },
   "file_extension": ".py",
   "mimetype": "text/x-python",
   "name": "python",
   "nbconvert_exporter": "python",
   "pygments_lexer": "ipython3",
   "version": "3.9.20"
  },
  "orig_nbformat": 4
 },
 "nbformat": 4,
 "nbformat_minor": 2
}
